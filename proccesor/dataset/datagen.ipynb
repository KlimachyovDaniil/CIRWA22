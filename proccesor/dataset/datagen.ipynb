{
 "cells": [
  {
   "cell_type": "code",
   "execution_count": 2,
   "id": "b3bbde47",
   "metadata": {},
   "outputs": [],
   "source": [
    "import os\n",
    "from os import listdir\n",
    "from os.path import isfile, join\n",
    "from IPython.display import Image, display\n",
    "import matplotlib.pyplot as plt\n",
    "from tqdm import tqdm\n",
    "import numpy as np\n",
    "import json\n",
    "import random\n",
    "\n",
    "import cv2"
   ]
  },
  {
   "cell_type": "code",
   "execution_count": 22,
   "id": "f1cfdece",
   "metadata": {},
   "outputs": [],
   "source": [
    "def rotate_image(mat, angle, corners=None, save_shape=False):\n",
    "    \"\"\"\n",
    "    Rotates an image (angle in degrees) and expands image to avoid cropping\n",
    "    \"\"\"\n",
    "\n",
    "    height, width = mat.shape[:2] # image shape has 3 dimensions\n",
    "    image_center = (width/2, height/2) # getRotationMatrix2D needs coordinates in reverse order (width, height) compared to shape\n",
    "\n",
    "    rotation_mat = cv2.getRotationMatrix2D(image_center, angle, 1.)\n",
    "\n",
    "    # rotation calculates the cos and sin, taking absolutes of those.\n",
    "    abs_cos = abs(rotation_mat[0,0]) \n",
    "    abs_sin = abs(rotation_mat[0,1])\n",
    "\n",
    "    # find the new width and height bounds\n",
    "    bound_w = int(height * abs_sin + width * abs_cos)\n",
    "    bound_h = int(height * abs_cos + width * abs_sin)\n",
    "    if save_shape:\n",
    "        bound_w = width\n",
    "        bound_h = height\n",
    "\n",
    "    # subtract old image center (bringing image back to origo) and adding the new image center coordinates\n",
    "    rotation_mat[0, 2] += bound_w/2 - image_center[0]\n",
    "    rotation_mat[1, 2] += bound_h/2 - image_center[1]        \n",
    "\n",
    "    # rotate image with the new bounds and translated rotation matrix\n",
    "    rotated_mat = cv2.warpAffine(mat, rotation_mat, (bound_w, bound_h))\n",
    "    \n",
    "    if corners is None:\n",
    "        return rotated_mat\n",
    "    else:\n",
    "        bbox_points = np.array(corners).reshape((-1,1,2))\n",
    "        rotated_points = cv2.transform(bbox_points, rotation_mat)\n",
    "        return rotated_mat, rotated_points"
   ]
  },
  {
   "cell_type": "code",
   "execution_count": 4,
   "id": "708ee5e4",
   "metadata": {},
   "outputs": [],
   "source": [
    "def resize_percent(img, scale_percent):\n",
    "    if not 0 <= scale_percent:\n",
    "        raise Exception(f\"scale_percent ({scale_percent}) should be more than 0\")\n",
    "        \n",
    "    width = int(img.shape[1] * scale_percent / 100)\n",
    "    height = int(img.shape[0] * scale_percent / 100)\n",
    "    dim = (width, height)\n",
    "    # resize image\n",
    "    return cv2.resize(img, dim, interpolation = cv2.INTER_AREA)\n",
    "\n",
    "def resize_shape(img, x, y):\n",
    "    dim = (x, y)\n",
    "    # resize image\n",
    "    return cv2.resize(img, dim, interpolation = cv2.INTER_AREA)\n",
    "\n",
    "def resize_x(img, x):\n",
    "    y = int(x * img.shape[1] / img.shape[0])\n",
    "    dim = (y, x)\n",
    "    # resize image\n",
    "    return cv2.resize(img, dim, interpolation = cv2.INTER_AREA)"
   ]
  },
  {
   "cell_type": "code",
   "execution_count": 5,
   "id": "a91104cc",
   "metadata": {},
   "outputs": [],
   "source": [
    "def insert_center(dst, src):\n",
    "    src_h,src_w,src_c = src.shape\n",
    "    dst_h,dst_w,dst_c = dst.shape\n",
    "    \n",
    "    if dst_h < src_h:\n",
    "        raise Exception(f\"dst_h({dst_h}) < src_h({src_h})\")\n",
    "    if dst_w < src_w:\n",
    "        raise Exception(f\"dst_w({dst_w}) < src_w({src_w})\")\n",
    "    x_offset=(dst_w - src_w) // 2\n",
    "    y_offset=(dst_h - src_h) // 2\n",
    "    dst[y_offset:y_offset+src.shape[0], x_offset:x_offset+src.shape[1]] = src\n",
    "    return [\n",
    "        [x_offset, y_offset+src.shape[0]], \n",
    "        [x_offset+src.shape[1], y_offset+src.shape[0]], \n",
    "        [x_offset+src.shape[1], y_offset], \n",
    "        [x_offset, y_offset]\n",
    "    ]"
   ]
  },
  {
   "cell_type": "markdown",
   "id": "1e33e9f5",
   "metadata": {},
   "source": [
    "### Generation parameters"
   ]
  },
  {
   "cell_type": "code",
   "execution_count": 29,
   "id": "ef10103d",
   "metadata": {},
   "outputs": [],
   "source": [
    "# parameters\n",
    "back_dir = \"backs\"\n",
    "card_dir = \"cards\"\n",
    "output_img_dir = \"images\"\n",
    "output_mark_dir = \"corners\"\n",
    "\n",
    "\n",
    "output_shape = [512, 512]\n",
    "\n",
    "resize_x_list = list(range(128, 280, 16))\n",
    "rotate_angle_list = list(range(-60, 61, 10))"
   ]
  },
  {
   "cell_type": "code",
   "execution_count": 31,
   "id": "4f50f93b",
   "metadata": {},
   "outputs": [],
   "source": [
    "back_imgs = [f for f in listdir(back_dir) if isfile(join(back_dir, f))]\n",
    "card_imgs = [f for f in listdir(card_dir) if isfile(join(card_dir, f))]"
   ]
  },
  {
   "cell_type": "code",
   "execution_count": 32,
   "id": "1a4e97df",
   "metadata": {},
   "outputs": [
    {
     "name": "stdout",
     "output_type": "stream",
     "text": [
      "Generated images count: 15600\n"
     ]
    }
   ],
   "source": [
    "count = len(rotate_angle_list) * len(resize_x_list) * len(back_imgs) * len(card_imgs)\n",
    "print(f\"Generated images count: {count}\")"
   ]
  },
  {
   "cell_type": "code",
   "execution_count": null,
   "id": "aa5a858b",
   "metadata": {},
   "outputs": [
    {
     "name": "stdout",
     "output_type": "stream",
     "text": [
      "\r",
      "1/15"
     ]
    }
   ],
   "source": [
    "corner_dict = dict()\n",
    "for b, back_path in enumerate(back_imgs):\n",
    "    print(f\"\\r{b+1}/{len(back_imgs)}\", end=\"\")\n",
    "    for c, card_path in enumerate(card_imgs):\n",
    "        card_img = cv2.imread(card_dir + \"\\\\\" + card_path)\n",
    "        \n",
    "        for r, resize_x_coef in enumerate(resize_x_list):\n",
    "            res_card_img = resize_x(card_img, resize_x_coef)\n",
    "            \n",
    "            back_img = resize_shape(cv2.imread(back_dir + \"\\\\\" + back_path), output_shape[0], output_shape[1])\n",
    "            corners = insert_center(back_img, res_card_img)\n",
    "            \n",
    "            for a, rotate_angle in enumerate(rotate_angle_list):\n",
    "                result_image, rot_corners = rotate_image(back_img, rotate_angle, corners, True)\n",
    "                \n",
    "                \n",
    "                \n",
    "                cv2.imwrite(output_img_dir + \"\\\\\" + f\"img_{b}_{c}_{r}_{a}.png\", result_image)\n",
    "                corner_dict[f\"img_{b}_{c}_{r}_{a}.png\"] = rot_corners.squeeze().tolist()\n",
    "    break\n",
    "with open(output_mark_dir + '\\\\corners.json', 'w') as fp:\n",
    "    json.dump(corner_dict, fp)"
   ]
  },
  {
   "cell_type": "markdown",
   "id": "9a06ec93",
   "metadata": {},
   "source": [
    "### Verification"
   ]
  },
  {
   "cell_type": "code",
   "execution_count": null,
   "id": "60bcd910",
   "metadata": {},
   "outputs": [],
   "source": [
    "data_imgs = [f for f in listdir(output_img_dir) if isfile(join(output_img_dir, f))]\n",
    "img_path = random.choice(data_imgs)\n",
    "img = cv2.imread(output_img_dir + \"\\\\\" + img_path)\n",
    "\n",
    "bbox = corner_dict[img_path]\n",
    "\n",
    "cv2.line(img, bbox[0], bbox[1], (255, 255, 0), thickness=2)\n",
    "cv2.line(img, bbox[1], bbox[2], (255, 255, 0), thickness=2)\n",
    "cv2.line(img, bbox[2], bbox[3], (255, 255, 0), thickness=2)\n",
    "cv2.line(img, bbox[3], bbox[0], (255, 255, 0), thickness=2)\n",
    "\n",
    "plt.imshow(img)\n",
    "plt.title('my picture')\n",
    "plt.show()\n",
    "print(f\"Picture shape is {img.shape}\")"
   ]
  },
  {
   "cell_type": "code",
   "execution_count": null,
   "id": "5ffa26ab",
   "metadata": {},
   "outputs": [],
   "source": []
  }
 ],
 "metadata": {
  "kernelspec": {
   "display_name": "Python 3 (ipykernel)",
   "language": "python",
   "name": "python3"
  },
  "language_info": {
   "codemirror_mode": {
    "name": "ipython",
    "version": 3
   },
   "file_extension": ".py",
   "mimetype": "text/x-python",
   "name": "python",
   "nbconvert_exporter": "python",
   "pygments_lexer": "ipython3",
   "version": "3.10.10"
  }
 },
 "nbformat": 4,
 "nbformat_minor": 5
}
